{
 "cells": [
  {
   "cell_type": "code",
   "execution_count": null,
   "id": "b774d7a5-0a99-481c-9ca4-3a568f9310c5",
   "metadata": {
    "collapsed": true,
    "jupyter": {
     "outputs_hidden": true
    }
   },
   "outputs": [],
   "source": [
    "pip install -r requirements.txt\n",
    "mkdir weights | true"
   ]
  },
  {
   "cell_type": "code",
   "execution_count": null,
   "id": "334f2458",
   "metadata": {},
   "outputs": [],
   "source": [
    "git clone https://github.com/awslabs/fast-differential-privacy.git --branch v2.1 --depth 1\n",
    "pip install fast-differential-privacy"
   ]
  },
  {
   "cell_type": "code",
   "execution_count": null,
   "id": "1950d516-5bec-4ed8-a783-047ee48e77cd",
   "metadata": {},
   "outputs": [],
   "source": [
    "git pull"
   ]
  },
  {
   "cell_type": "code",
   "execution_count": null,
   "id": "152db870-d57e-40d2-8cac-36d9d51bb37f",
   "metadata": {
    "scrolled": true
   },
   "outputs": [],
   "source": [
    "python main.py resnet18 weights/resnet18.pth --lr 1e-1 --bs 256 --ws -p --da -e 200 --ca --optimizer-kwargs momentum=0.9 --weight-decay 1e-3"
   ]
  },
  {
   "cell_type": "code",
   "execution_count": null,
   "id": "6d81a99c",
   "metadata": {},
   "outputs": [],
   "source": [
    "python main.py resnet18 weights/resnet18.pth --lr 5e-1 --bs 512 --ws -p --da -e 200 --ca --optimizer-kwargs momentum=0.9"
   ]
  },
  {
   "cell_type": "code",
   "execution_count": null,
   "id": "5dac1a76-2201-4ff1-aaba-7cc9276b92c6",
   "metadata": {
    "scrolled": true
   },
   "outputs": [],
   "source": [
    "python main.py resnet18 weights/resnet18_dp.pth --dp --lr 4 --maxbs 128 --bs 2048 -p -e 150 --ws --ema --weight-decay 0 --optimizer-kwargs momentum=0.9"
   ]
  },
  {
   "cell_type": "code",
   "execution_count": null,
   "id": "4631baf9",
   "metadata": {},
   "outputs": [],
   "source": [
    "python main.py resnet18 weights/resnet18_adapter.pth -i weights/resnet18_dp.pth --lr 1e-2 --bs 128 --ws -p --da -e 200 --ca --peft conv-adapter --peft-targets layer1 layer2 layer3 layer4 --peft-ratio 1 2 4 16 --optimizer-kwargs momentum=0.9"
   ]
  },
  {
   "cell_type": "code",
   "execution_count": null,
   "id": "9215000e",
   "metadata": {},
   "outputs": [],
   "source": [
    "python main.py resnet18 weights/resnet18_prune.pth -i weights/resnet18_dp.pth --lr 1e-2 --bs 128 --ws -p --da -e 200 --ca --peft prune --peft-targets layer1 layer2 layer3 layer4 --peft-ratio 1 2 4 16 --optimizer-kwargs momentum=0.9"
   ]
  },
  {
   "cell_type": "code",
   "execution_count": null,
   "id": "f1343e4e",
   "metadata": {},
   "outputs": [],
   "source": [
    "python main.py vit-tiny weights/vit_tiny.pth --lr 1e-2 -p --bs 128 --da -e 200 --ca --weight-decay 1e-1 --optimizer AdamW"
   ]
  },
  {
   "cell_type": "code",
   "execution_count": null,
   "id": "47ef66a3",
   "metadata": {},
   "outputs": [],
   "source": [
    "python main.py vit-tiny weights/vit_tiny.pth --lr 5e-2 -p --bs 128 --da -e 200 --ca --optimizer-kwargs momentum=0.9"
   ]
  },
  {
   "cell_type": "code",
   "execution_count": null,
   "id": "60ba528d",
   "metadata": {},
   "outputs": [],
   "source": [
    "python main.py vit-tiny weights/vit_tiny_dp.pth --dp --lr 1 --maxbs 128 --bs 2048 -p -e 150 --ema --weight-decay 0 --optimizer-kwargs momentum=0.9"
   ]
  },
  {
   "cell_type": "code",
   "execution_count": null,
   "id": "0c20f49f",
   "metadata": {},
   "outputs": [],
   "source": [
    "python main.py vit-tiny weights/vit_tiny_prune.pth -i weights/vit_tiny_dp.pth --lr 5e-3 --bs 128 -p --da -e 200 --ca --peft prune --peft-targets blocks --peft-ratio 8 --global-pruning --optimizer-kwargs momentum=0.9"
   ]
  },
  {
   "cell_type": "code",
   "execution_count": null,
   "id": "31824026",
   "metadata": {},
   "outputs": [],
   "source": [
    "python main.py vit-tiny weights/vit_tiny_lora.pth -i weights/vit_tiny_dp.pth --lr 5e-3 --bs 128 -p --da -e 200 --ca --peft lora --peft-targets blocks --peft-ratio 8 --optimizer-kwargs momentum=0.9"
   ]
  },
  {
   "cell_type": "code",
   "execution_count": null,
   "id": "a5caa9e5",
   "metadata": {},
   "outputs": [],
   "source": [
    "python main.py vit-tiny weights/vit_tiny_adapter.pth -i weights/vit_tiny_dp.pth --lr 5e-3 --bs 128 -p --da -e 200 --ca --peft linear-adapter --peft-targets blocks --peft-ratio 8"
   ]
  }
 ],
 "metadata": {
  "kernelspec": {
   "display_name": "Python 3",
   "language": "python",
   "name": "python3"
  },
  "language_info": {
   "codemirror_mode": {
    "name": "ipython",
    "version": 3
   },
   "file_extension": ".py",
   "mimetype": "text/x-python",
   "name": "python",
   "nbconvert_exporter": "python",
   "pygments_lexer": "ipython3",
   "version": "3.11.2"
  }
 },
 "nbformat": 4,
 "nbformat_minor": 5
}
